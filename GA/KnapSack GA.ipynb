{
 "cells": [
  {
   "cell_type": "code",
   "execution_count": null,
   "metadata": {},
   "outputs": [],
   "source": [
    "#testing git\n",
    "import numpy as np\n",
    "from IPython.core.interactiveshell import InteractiveShell\n",
    "InteractiveShell.ast_node_interactivity = \"all\"\n",
    "\n",
    "my_data = np.load('A.npz')\n",
    "\n",
    "bag_capacity = my_data['capacity']\n",
    "n_items = my_data['n_items']\n",
    "value_array = my_data[\"item_values\"]\n",
    "weight_array = my_data[\"item_weights\"]\n",
    "\n",
    "print(bag_capacity)\n",
    "print(n_items)\n",
    "print(value_array)\n",
    "print(weight_array)\n",
    "\n",
    "N_WEIGHTS = n_items\n",
    "WEIGHTS = np.array(weight_array)\n",
    "VALUES = np.array(value_array)\n",
    "\n",
    "POP_SIZE = 500\n",
    "DOFS_IN_POP = (POP_SIZE, N_WEIGHTS)\n",
    "N_MATING = 300\n",
    "N_OFFSPRING = 300\n",
    "IDX_CROSSOVER = 25\n",
    "\n",
    "curr_population = np.random.randint(2, size=DOFS_IN_POP)"
   ]
  },
  {
   "cell_type": "code",
   "execution_count": null,
   "metadata": {},
   "outputs": [],
   "source": [
    "def calc_fitness(t_pop):\n",
    "    fitness = t_pop @ VALUES\n",
    "    return fitness"
   ]
  },
  {
   "cell_type": "code",
   "execution_count": null,
   "metadata": {},
   "outputs": [],
   "source": [
    "def select_determinstic(t_pop, t_fitness):\n",
    "    idx = np.argsort(t_fitness)\n",
    "    idx = idx[::-1]\n",
    "    parents = t_pop[idx]\n",
    "    parents = parents[:N_MATING, :]\n",
    "    return (parents, calc_fitness(parents))"
   ]
  },
  {
   "cell_type": "code",
   "execution_count": null,
   "metadata": {},
   "outputs": [],
   "source": [
    "def select_stochastic(t_pop, t_fitness):\n",
    "    idx = np.argsort(t_fitness)\n",
    "    r_i = np.empty_like(idx)\n",
    "    r_i[idx] = np.arange(len(t_fitness))\n",
    "    p_i = r_i + 2\n",
    "    sum_pi = np.sum(p_i)\n",
    "    q_i = p_i / sum_pi\n",
    "    q_idx = np.argsort(q_i)\n",
    "    q_i = q_i[q_idx]\n",
    "    q_i = q_i[::-1]\n",
    "    random_increment = 1./N_MATING\n",
    "    random_val = np.random.rand(1, )\n",
    "    arrow_locations = random_val + random_increment * np.arange(N_MATING)\n",
    "    arrow_locations %= 1\n",
    "    arrow_locations.sort()\n",
    "    cum_qi = np.cumsum(q_i)\n",
    "    zone_belong = np.searchsorted(cum_qi, arrow_locations)\n",
    "    zone_belong = POP_SIZE - zone_belong - 1\n",
    "    parents = t_pop[q_idx][zone_belong]\n",
    "    par_fitness = t_fitness[q_idx][zone_belong]\n",
    "    return (parents, par_fitness)"
   ]
  },
  {
   "cell_type": "code",
   "execution_count": null,
   "metadata": {},
   "outputs": [],
   "source": [
    "def crossover(t_parents):\n",
    "    offspring = np.empty((N_OFFSPRING, N_WEIGHTS))\n",
    "    for k in range(N_OFFSPRING):\n",
    "        p1_idx = k%N_MATING\n",
    "        p2_idx = (k+1)%N_MATING\n",
    "        offspring[k, :IDX_CROSSOVER] = t_parents[p1_idx, :IDX_CROSSOVER]\n",
    "        offspring[k, IDX_CROSSOVER:] = t_parents[p2_idx, IDX_CROSSOVER:]\n",
    "    return (offspring, calc_fitness(offspring))"
   ]
  },
  {
   "cell_type": "code",
   "execution_count": null,
   "metadata": {},
   "outputs": [],
   "source": [
    "PM = 0.5\n",
    "def mutation(t_offspring):\n",
    "    random_mutator = np.random.uniform(0.0, 1.0, (N_OFFSPRING,))\n",
    "    idx = random_mutator > PM\n",
    "    nnz = np.count_nonzero(idx)\n",
    "    mutated_offspring = t_offspring.copy()\n",
    "    mutated_offspring[idx] = np.random.randint(2, size=n_items)\n",
    "    return (mutated_offspring, calc_fitness(mutated_offspring))"
   ]
  },
  {
   "cell_type": "code",
   "execution_count": null,
   "metadata": {},
   "outputs": [],
   "source": [
    "LIMIT_WEIGHT = bag_capacity\n",
    "def hard_constraint(t_total_pop):\n",
    "    idx = []\n",
    "    for candidate in t_total_pop:\n",
    "        if candidate@WEIGHTS > LIMIT_WEIGHT:\n",
    "            idx.append(False)\n",
    "        else:\n",
    "            idx.append(True)\n",
    "    return t_total_pop[idx]"
   ]
  },
  {
   "cell_type": "code",
   "execution_count": null,
   "metadata": {},
   "outputs": [],
   "source": [
    "def environmental_selection(t_total_pop):\n",
    "    tot_fitness = calc_fitness(t_total_pop)\n",
    "    idx = np.argsort(tot_fitness)\n",
    "    idx = idx[::-1]\n",
    "    idx = idx[:POP_SIZE]\n",
    "    return t_total_pop[idx]"
   ]
  },
  {
   "cell_type": "code",
   "execution_count": null,
   "metadata": {},
   "outputs": [],
   "source": [
    "best_outputs = []\n",
    "num_generations = 1000\n",
    "curr_population = np.zeros(DOFS_IN_POP)\n",
    "overall_max_fitness = -99999\n",
    "\n",
    "for generation in range(num_generations):\n",
    "    print(\"Generation : \", generation)\n",
    "\n",
    "    fitness = calc_fitness(curr_population)\n",
    "\n",
    "    max_fitness = np.max(fitness)\n",
    "\n",
    "    print(\"Best result in current iteration {0} compared to overall {1}\".format(max_fitness, max(max_fitness, overall_max_fitness)))\n",
    "    best_outputs.append(max_fitness)\n",
    "    \n",
    "    parents, _ = select_determinstic(curr_population, fitness)\n",
    "\n",
    "    offspring_crossed, _ = crossover(parents)\n",
    "    offspring_mutated, _ = mutation(offspring_crossed)\n",
    "    \n",
    "    total_population = np.vstack((curr_population, offspring_mutated))\n",
    "    total_population = hard_constraint(total_population)\n",
    "\n",
    "    curr_population = environmental_selection(total_population)\n",
    "              \n",
    "fitness = calc_fitness(curr_population)\n",
    "\n",
    "max_idx = np.argmax(fitness)\n",
    "\n",
    "print(\"Best solution : \", curr_population[max_idx, :])\n",
    "print(\"Best solution fitness : \", fitness[max_idx])"
   ]
  },
  {
   "cell_type": "code",
   "execution_count": null,
   "metadata": {},
   "outputs": [],
   "source": [
    "import pylab as plt\n",
    "import seaborn as sns\n",
    "sns.set_context(\"talk\", font_scale=1.5, rc={\"lines.linewidth\": 2.5})\n",
    "\n",
    "%matplotlib inline\n",
    "plt.figure(figsize=(12,12))\n",
    "plt.plot(best_outputs,'-o', lw=3, ms=20, label='from scratch')\n",
    "plt.xlabel(\"Iteration\")\n",
    "plt.ylabel(\"Fitness\")\n",
    "plt.show()"
   ]
  },
  {
   "cell_type": "code",
   "execution_count": null,
   "metadata": {},
   "outputs": [],
   "source": [
    "%matplotlib inline\n",
    "plt.figure(figsize=(12,12))\n",
    "plt.plot(120-np.array(best_outputs),'-o', lw=3, ms=20, label='from scratch')\n",
    "plt.xlabel(\"Iteration\")\n",
    "plt.ylabel(\"Fitness\")\n",
    "plt.show()"
   ]
  }
 ],
 "metadata": {
  "kernelspec": {
   "display_name": "Python 3.9.12 ('base')",
   "language": "python",
   "name": "python3"
  },
  "language_info": {
   "codemirror_mode": {
    "name": "ipython",
    "version": 3
   },
   "file_extension": ".py",
   "mimetype": "text/x-python",
   "name": "python",
   "nbconvert_exporter": "python",
   "pygments_lexer": "ipython3",
   "version": "3.9.12"
  },
  "vscode": {
   "interpreter": {
    "hash": "489967d90c9a1528c19ddd10930ed0992865de16284e5264a58b50e0185a8bda"
   }
  }
 },
 "nbformat": 4,
 "nbformat_minor": 2
}
